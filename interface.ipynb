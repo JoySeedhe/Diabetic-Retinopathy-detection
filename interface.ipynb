{
 "cells": [
  {
   "cell_type": "code",
   "execution_count": null,
   "metadata": {},
   "outputs": [
    {
     "name": "stdout",
     "output_type": "stream",
     "text": [
      "* Running on local URL:  http://127.0.0.1:7863\n",
      "\n",
      "To create a public link, set `share=True` in `launch()`.\n"
     ]
    },
    {
     "data": {
      "text/html": [
       "<div><iframe src=\"http://127.0.0.1:7863/\" width=\"100%\" height=\"500\" allow=\"autoplay; camera; microphone; clipboard-read; clipboard-write;\" frameborder=\"0\" allowfullscreen></iframe></div>"
      ],
      "text/plain": [
       "<IPython.core.display.HTML object>"
      ]
     },
     "metadata": {},
     "output_type": "display_data"
    },
    {
     "name": "stdout",
     "output_type": "stream",
     "text": [
      "\u001b[1m1/1\u001b[0m \u001b[32m━━━━━━━━━━━━━━━━━━━━\u001b[0m\u001b[37m\u001b[0m \u001b[1m4s\u001b[0m 4s/step\n",
      "\u001b[1m1/1\u001b[0m \u001b[32m━━━━━━━━━━━━━━━━━━━━\u001b[0m\u001b[37m\u001b[0m \u001b[1m0s\u001b[0m 21ms/step\n",
      "\u001b[1m1/1\u001b[0m \u001b[32m━━━━━━━━━━━━━━━━━━━━\u001b[0m\u001b[37m\u001b[0m \u001b[1m0s\u001b[0m 19ms/step\n",
      "\u001b[1m1/1\u001b[0m \u001b[32m━━━━━━━━━━━━━━━━━━━━\u001b[0m\u001b[37m\u001b[0m \u001b[1m0s\u001b[0m 24ms/step\n",
      "\u001b[1m1/1\u001b[0m \u001b[32m━━━━━━━━━━━━━━━━━━━━\u001b[0m\u001b[37m\u001b[0m \u001b[1m0s\u001b[0m 24ms/step\n",
      "\u001b[1m1/1\u001b[0m \u001b[32m━━━━━━━━━━━━━━━━━━━━\u001b[0m\u001b[37m\u001b[0m \u001b[1m0s\u001b[0m 21ms/step\n"
     ]
    }
   ],
   "source": [
    "import gradio as gr\n",
    "import tensorflow as tf\n",
    "import numpy as np\n",
    "import cv2\n",
    "from tensorflow.keras.models import load_model\n",
    "from tensorflow.keras.applications.efficientnet import preprocess_input\n",
    "from PIL import Image\n",
    "\n",
    "\n",
    "model = load_model('/mnt/d/Coding/tensorflowProjects/tf217/final_model.keras')\n",
    "class_labels = {0: 'DR', 1: 'No_DR'}\n",
    "\n",
    "\n",
    "def preprocess_image(image):\n",
    "    img_array = np.array(image)\n",
    "    gray = cv2.cvtColor(img_array, cv2.COLOR_RGB2GRAY)\n",
    "    filtered = cv2.GaussianBlur(gray, (5, 5), 0)\n",
    "    _, segmented = cv2.threshold(filtered, 30, 255, cv2.THRESH_BINARY)\n",
    "    return gray, filtered, segmented\n",
    "\n",
    "\n",
    "def predict_image(image):\n",
    "    img = image.resize((224, 224))\n",
    "    img_array = np.array(img)\n",
    "    img_array = preprocess_input(np.expand_dims(img_array, axis=0))\n",
    "\n",
    "    \n",
    "    prediction = model.predict(img_array)\n",
    "    predicted_class = int(prediction[0, 0] > 0.5)\n",
    "    confidence = prediction[0, 0] if predicted_class == 1 else 1 - prediction[0, 0]\n",
    "    diagnosis = class_labels[predicted_class]\n",
    "    \n",
    "    \n",
    "    result_text = f\"Diagnosis: {diagnosis} (Confidence: {confidence:.2f})\"\n",
    "    return result_text, (diagnosis == \"DR\" and \"red\") or \"green\"\n",
    "\n",
    "\n",
    "def process_and_predict(image):\n",
    "    gray, filtered, segmented = preprocess_image(image)\n",
    "    result_text, result_color = predict_image(image)\n",
    "    \n",
    "    return (\n",
    "        result_text,\n",
    "        result_color,\n",
    "        image,       # Original Image\n",
    "        gray,        # Gray Image\n",
    "        filtered,    # Filtered Image\n",
    "        segmented    # Segmented Image\n",
    "    )\n",
    "\n",
    "\n",
    "interface = gr.Interface(\n",
    "    fn=process_and_predict,\n",
    "    inputs=gr.Image(type=\"pil\"),\n",
    "    outputs=[\n",
    "        gr.Textbox(label=\"Detection Result\"),\n",
    "        gr.Label(label=\"Confidence Level\", color=\"dynamic\"),\n",
    "        gr.Image(label=\"Original Image\"),\n",
    "        gr.Image(label=\"Gray Image\"),\n",
    "        gr.Image(label=\"Filtered Image\"),\n",
    "        gr.Image(label=\"Segmented Image\"),\n",
    "    ],\n",
    "    title=\"Diabetic Retinopathy Detection\",\n",
    "    description=\"Upload a retinal image to detect the presence and severity of Diabetic Retinopathy.\"\n",
    ")\n",
    "\n",
    "if __name__ == \"__main__\":\n",
    "    interface.launch()"
   ]
  }
 ],
 "metadata": {
  "kernelspec": {
   "display_name": "tf217",
   "language": "python",
   "name": "python3"
  },
  "language_info": {
   "codemirror_mode": {
    "name": "ipython",
    "version": 3
   },
   "file_extension": ".py",
   "mimetype": "text/x-python",
   "name": "python",
   "nbconvert_exporter": "python",
   "pygments_lexer": "ipython3",
   "version": "3.12.3"
  }
 },
 "nbformat": 4,
 "nbformat_minor": 2
}
