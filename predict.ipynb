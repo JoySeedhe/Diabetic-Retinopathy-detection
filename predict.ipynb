{
 "cells": [
  {
   "cell_type": "code",
   "execution_count": null,
   "metadata": {},
   "outputs": [
    {
     "name": "stdout",
     "output_type": "stream",
     "text": [
      "WARNING:tensorflow:6 out of the last 6 calls to <function TensorFlowTrainer.make_predict_function.<locals>.one_step_on_data_distributed at 0x7fb00c5db100> triggered tf.function retracing. Tracing is expensive and the excessive number of tracings could be due to (1) creating @tf.function repeatedly in a loop, (2) passing tensors with different shapes, (3) passing Python objects instead of tensors. For (1), please define your @tf.function outside of the loop. For (2), @tf.function has reduce_retracing=True option that can avoid unnecessary retracing. For (3), please refer to https://www.tensorflow.org/guide/function#controlling_retracing and https://www.tensorflow.org/api_docs/python/tf/function for  more details.\n",
      "\u001b[1m1/1\u001b[0m \u001b[32m━━━━━━━━━━━━━━━━━━━━\u001b[0m\u001b[37m\u001b[0m \u001b[1m4s\u001b[0m 4s/step\n",
      "Predicted class: No_DR with confidence 0.9985\n"
     ]
    }
   ],
   "source": [
    "import numpy as np\n",
    "import tensorflow as tf\n",
    "from tensorflow.keras.preprocessing import image\n",
    "from tensorflow.keras.applications.efficientnet import preprocess_input\n",
    "from tensorflow.keras.models import load_model\n",
    "import os\n",
    "\n",
    "model_path = '/mnt/d/Coding/tensorflowProjects/tf217/final_model.keras'\n",
    "if not os.path.exists(model_path):\n",
    "    print(f\"Model file not found at {model_path}\")\n",
    "else:\n",
    "    model = load_model(model_path)\n",
    "\n",
    "    \n",
    "    def load_and_preprocess_image(img_path):\n",
    "        img = image.load_img(img_path, target_size=(224, 224))  # Use the same size as during training\n",
    "        img_array = image.img_to_array(img)\n",
    "        img_array = np.expand_dims(img_array, axis=0)\n",
    "        img_array = preprocess_input(img_array)\n",
    "        return img_array\n",
    "\n",
    "    \n",
    "    def predict_image(img_path):\n",
    "        if not os.path.exists(img_path):\n",
    "            print(f\"Image file not found at {img_path}\")\n",
    "            return\n",
    "        img_array = load_and_preprocess_image(img_path)\n",
    "        prediction = model.predict(img_array)\n",
    "        class_index = int(prediction[0, 0] > 0.5)  # Updated to avoid warning\n",
    "        class_labels = {0: 'DR', 1: 'No_DR'}\n",
    "        print(f\"Predicted class: {class_labels[class_index]} with confidence {prediction[0][0]:.4f}\")\n",
    "\n",
    "    \n",
    "    img_path = r'/mnt/d/Coding/tensorflowProjects/tf217/abbb8791785e_png.rf.4b1194c56bed9944d9f3afe746018da2.jpg'\n",
    "    predict_image(img_path)\n"
   ]
  }
 ],
 "metadata": {
  "kernelspec": {
   "display_name": "tf217",
   "language": "python",
   "name": "python3"
  },
  "language_info": {
   "codemirror_mode": {
    "name": "ipython",
    "version": 3
   },
   "file_extension": ".py",
   "mimetype": "text/x-python",
   "name": "python",
   "nbconvert_exporter": "python",
   "pygments_lexer": "ipython3",
   "version": "3.12.3"
  }
 },
 "nbformat": 4,
 "nbformat_minor": 2
}
